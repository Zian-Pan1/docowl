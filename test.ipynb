{
 "cells": [
  {
   "cell_type": "code",
   "execution_count": 1,
   "metadata": {},
   "outputs": [
    {
     "name": "stderr",
     "output_type": "stream",
     "text": [
      "c:\\Users\\panzi\\anaconda3\\envs\\mplug_owl2\\lib\\site-packages\\tqdm\\auto.py:21: TqdmWarning: IProgress not found. Please update jupyter and ipywidgets. See https://ipywidgets.readthedocs.io/en/stable/user_install.html\n",
      "  from .autonotebook import tqdm as notebook_tqdm\n",
      "Downloading: 100%|██████████| 4.73k/4.73k [00:16<00:00, 294B/s]\n",
      "Downloading: 100%|██████████| 55.0/55.0 [00:16<00:00, 3.36B/s]\n",
      "Downloading: 100%|██████████| 162/162 [00:15<00:00, 10.3B/s]\n",
      "Downloading: 100%|██████████| 317/317 [00:13<00:00, 23.4B/s]\n",
      "Downloading: 100%|██████████| 15.2G/15.2G [1:00:27<00:00, 4.49MB/s]\n",
      "Downloading: 100%|██████████| 55.4k/55.4k [00:06<00:00, 9.21kB/s]\n",
      "Downloading: 100%|██████████| 1.37k/1.37k [00:40<00:00, 35.0B/s]\n",
      "Downloading: 100%|██████████| 438/438 [00:25<00:00, 17.2B/s]\n",
      "Downloading: 100%|██████████| 488k/488k [00:13<00:00, 37.9kB/s]\n",
      "Downloading: 100%|██████████| 749/749 [00:22<00:00, 32.7B/s]\n"
     ]
    }
   ],
   "source": [
    "#SDK模型下载\n",
    "from modelscope import snapshot_download\n",
    "model_dir = snapshot_download('iic/DocOwl1.5-Omni')"
   ]
  },
  {
   "cell_type": "code",
   "execution_count": 1,
   "metadata": {},
   "outputs": [],
   "source": [
    "import torch\n",
    "image='C:\\\\Users\\panzi\\Downloads\\\\202406240305041.jpg'\n"
   ]
  },
  {
   "cell_type": "code",
   "execution_count": 2,
   "metadata": {},
   "outputs": [
    {
     "name": "stderr",
     "output_type": "stream",
     "text": [
      "c:\\Users\\panzi\\anaconda3\\envs\\mplug_owl2\\lib\\site-packages\\tqdm\\auto.py:21: TqdmWarning: IProgress not found. Please update jupyter and ipywidgets. See https://ipywidgets.readthedocs.io/en/stable/user_install.html\n",
      "  from .autonotebook import tqdm as notebook_tqdm\n",
      "ic| model_name: 'C:\\\\Users\\\\panzi\\\\.cache\\\\modelscope\\\\hub\\\\iic\\\\DocOwl1___5-Omni'\n",
      "c:\\Users\\panzi\\anaconda3\\envs\\mplug_owl2\\lib\\site-packages\\transformers\\modeling_utils.py:460: FutureWarning: You are using `torch.load` with `weights_only=False` (the current default value), which uses the default pickle module implicitly. It is possible to construct malicious pickle data which will execute arbitrary code during unpickling (See https://github.com/pytorch/pytorch/blob/main/SECURITY.md#untrusted-models for more details). In a future release, the default value for `weights_only` will be flipped to `True`. This limits the functions that could be executed during unpickling. Arbitrary objects will no longer be allowed to be loaded via this mode unless they are explicitly allowlisted by the user via `torch.serialization.add_safe_globals`. We recommend you start setting `weights_only=True` for any use case where you don't have full control of the loaded file. Please open an issue on GitHub for any issues related to this experimental feature.\n",
      "  return torch.load(checkpoint_file, map_location=\"cpu\")\n"
     ]
    },
    {
     "name": "stdout",
     "output_type": "stream",
     "text": [
      "load model from  C:\\Users\\panzi\\.cache\\modelscope\\hub\\iic\\DocOwl1___5-Omni\n"
     ]
    }
   ],
   "source": [
    "from docowl_infer import DocOwlInfer\n",
    "model_path='C:\\\\Users\\panzi\\.cache\\modelscope\\hub\\iic\\DocOwl1___5-Omni'\n",
    "docowl=DocOwlInfer(ckpt_path=model_path, anchors='grid_9', add_global_img=False)\n",
    "print('load model from ', model_path)\n"
   ]
  },
  {
   "cell_type": "code",
   "execution_count": 3,
   "metadata": {},
   "outputs": [
    {
     "name": "stdout",
     "output_type": "stream",
     "text": [
      "<md>  | Item | Charge | \n",
      " --- | --- | \n",
      " Cashier's order1 | Issue/repurchase a cashier's order2 (This charge will be waived if the repurchase of cashier's order follows the cheque clearing process) | \n",
      "    HK$75 | HK$60 | Waived | \n",
      "    HK$60 plus HK$331 collected on behalf of Hong Kong Interbank Clearing Limited on circulars issued | HK$60 plus HK$331 collected on behalf of Hong Kong Interbank Clearing Limited on circulars issued | HK$40 | Waived | \n",
      "    HK$150 | HK$150 | Waived | \n",
      "    HK$2 | HK$2 | Waived | \n",
      "    HK$1 | HK$1 | Waived | \n",
      " Coins paid-in (must be pre-sorted, per customer per day) | \n",
      "    Waived | Waived | \n",
      "    500 coins or more (minimum HK$50) (minimum HK$50) (minimum HK$50) paid-in (minimum HK$25) | (minimum HK$50) | (minimum HK$50) | \n",
      " Bulk cash deposit - Hong Kong dollar notes (per customer per day) | \n",
      "    Up to 200 pieces of notes | \n",
      "    Up to 200 pieces of notes | \n",
      "    0.25% of the full amount deposited 0.25% of the full amount deposited 0.25% of the full amount deposited (minimum HK$50) (minimum HK$50) (minimum HK$50) | Waived | Waived | \n",
      " Bulk cheque deposit (per customer per day) | \n",
      "    Up to 30 cheques | \n",
      "    Over 30 cheques | \n",
      "    HK$1 per additional cheque2 HK$1 per additional cheque2 HK$1 per additional cheque2 | Waived | Waived | \n",
      " Renminbi notes deposits/with\n",
      "<md>  | Item | Charge | \n",
      "  --- | --- | \n",
      "  Cashier's order1 | Issue/repurchase a cashier's order2 (This charge will be waived if the repurchase of cashier's order follows the cheque clearing process) | \n",
      "     HK$75 | HK$60 | Waived | \n",
      "     HK$60 plus HK$331 collected on behalf of Hong Kong Interbank Clearing Limited on circulars issued | HK$60 plus HK$331 collected on behalf of Hong Kong Interbank Clearing Limited on circulars issued | HK$40 | Waived | \n",
      "     HK$150 | HK$150 | Waived | \n",
      "     HK$2 | HK$2 | Waived | \n",
      "     HK$1 | HK$1 | Waived | \n",
      "  Coins paid-in (must be pre-sorted, per customer per day) | \n",
      "     Waived | Waived | \n",
      "     500 coins or more (minimum HK$50) (minimum HK$50) (minimum HK$50) paid-in (minimum HK$25) | (minimum HK$50) | (minimum HK$50) | \n",
      "  Bulk cash deposit - Hong Kong dollar notes (per customer per day) | \n",
      "     Up to 200 pieces of notes | \n",
      "     Up to 200 pieces of notes | \n",
      "     0.25% of the full amount deposited 0.25% of the full amount deposited 0.25% of the full amount deposited (minimum HK$50) (minimum HK$50) (minimum HK$50) | Waived | Waived | \n",
      "  Bulk cheque deposit (per customer per day) | \n",
      "     Up to 30 cheques | \n",
      "     Over 30 cheques | \n",
      "     HK$1 per additional cheque2 HK$1 per additional cheque2 HK$1 per additional cheque2 | Waived | Waived | \n",
      "  Renminbi notes deposits/with\n"
     ]
    }
   ],
   "source": [
    "query='Convert the picture to Markdown syntax.'\n",
    "answer=docowl.inference(image, query)\n",
    "print(answer)"
   ]
  }
 ],
 "metadata": {
  "kernelspec": {
   "display_name": "mplug_owl2",
   "language": "python",
   "name": "python3"
  },
  "language_info": {
   "codemirror_mode": {
    "name": "ipython",
    "version": 3
   },
   "file_extension": ".py",
   "mimetype": "text/x-python",
   "name": "python",
   "nbconvert_exporter": "python",
   "pygments_lexer": "ipython3",
   "version": "3.10.14"
  }
 },
 "nbformat": 4,
 "nbformat_minor": 2
}
