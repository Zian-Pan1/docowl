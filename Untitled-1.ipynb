{
 "cells": [
  {
   "cell_type": "code",
   "execution_count": 1,
   "metadata": {},
   "outputs": [
    {
     "name": "stdout",
     "output_type": "stream",
     "text": [
      "Requirement already satisfied: modelscope in c:\\users\\panzi\\anaconda3\\envs\\mplug_owl2\\lib\\site-packages (1.16.1)\n",
      "Requirement already satisfied: requests>=2.25 in c:\\users\\panzi\\anaconda3\\envs\\mplug_owl2\\lib\\site-packages (from modelscope) (2.32.3)\n",
      "Requirement already satisfied: tqdm>=4.64.0 in c:\\users\\panzi\\anaconda3\\envs\\mplug_owl2\\lib\\site-packages (from modelscope) (4.66.4)\n",
      "Requirement already satisfied: urllib3>=1.26 in c:\\users\\panzi\\anaconda3\\envs\\mplug_owl2\\lib\\site-packages (from modelscope) (2.2.2)\n",
      "Requirement already satisfied: charset-normalizer<4,>=2 in c:\\users\\panzi\\anaconda3\\envs\\mplug_owl2\\lib\\site-packages (from requests>=2.25->modelscope) (3.3.2)\n",
      "Requirement already satisfied: idna<4,>=2.5 in c:\\users\\panzi\\anaconda3\\envs\\mplug_owl2\\lib\\site-packages (from requests>=2.25->modelscope) (3.7)\n",
      "Requirement already satisfied: certifi>=2017.4.17 in c:\\users\\panzi\\anaconda3\\envs\\mplug_owl2\\lib\\site-packages (from requests>=2.25->modelscope) (2024.7.4)\n",
      "Requirement already satisfied: colorama in c:\\users\\panzi\\anaconda3\\envs\\mplug_owl2\\lib\\site-packages (from tqdm>=4.64.0->modelscope) (0.4.6)\n"
     ]
    }
   ],
   "source": [
    "!pip install modelscope\n"
   ]
  },
  {
   "cell_type": "code",
   "execution_count": 2,
   "metadata": {},
   "outputs": [
    {
     "name": "stderr",
     "output_type": "stream",
     "text": [
      "c:\\Users\\panzi\\anaconda3\\envs\\mplug_owl2\\lib\\site-packages\\tqdm\\auto.py:21: TqdmWarning: IProgress not found. Please update jupyter and ipywidgets. See https://ipywidgets.readthedocs.io/en/stable/user_install.html\n",
      "  from .autonotebook import tqdm as notebook_tqdm\n"
     ]
    }
   ],
   "source": [
    "from modelscope import snapshot_download\n",
    "import torch"
   ]
  },
  {
   "cell_type": "code",
   "execution_count": 3,
   "metadata": {},
   "outputs": [],
   "source": [
    "image='C:\\\\Users\\panzi\\Downloads\\\\20240624064637.jpg'"
   ]
  },
  {
   "cell_type": "code",
   "execution_count": 4,
   "metadata": {},
   "outputs": [
    {
     "name": "stderr",
     "output_type": "stream",
     "text": [
      "ic| model_name: 'C:\\\\Users\\\\panzi\\\\.cache\\\\modelscope\\\\hub\\\\iic\\\\DocOwl1___5-stage1'\n",
      "c:\\Users\\panzi\\anaconda3\\envs\\mplug_owl2\\lib\\site-packages\\transformers\\modeling_utils.py:460: FutureWarning: You are using `torch.load` with `weights_only=False` (the current default value), which uses the default pickle module implicitly. It is possible to construct malicious pickle data which will execute arbitrary code during unpickling (See https://github.com/pytorch/pytorch/blob/main/SECURITY.md#untrusted-models for more details). In a future release, the default value for `weights_only` will be flipped to `True`. This limits the functions that could be executed during unpickling. Arbitrary objects will no longer be allowed to be loaded via this mode unless they are explicitly allowlisted by the user via `torch.serialization.add_safe_globals`. We recommend you start setting `weights_only=True` for any use case where you don't have full control of the loaded file. Please open an issue on GitHub for any issues related to this experimental feature.\n",
      "  return torch.load(checkpoint_file, map_location=\"cpu\")\n"
     ]
    },
    {
     "name": "stdout",
     "output_type": "stream",
     "text": [
      "load model from  C:\\Users\\panzi\\.cache\\modelscope\\hub\\iic\\DocOwl1___5-stage1\n"
     ]
    }
   ],
   "source": [
    "from docowl_infer import DocOwlInfer\n",
    "model_path='C:\\\\Users\\panzi\\.cache\\modelscope\\hub\\iic\\DocOwl1___5-stage1'\n",
    "docowl=DocOwlInfer(ckpt_path=model_path, anchors='grid_9', add_global_img=False)\n",
    "print('load model from ', model_path)\n"
   ]
  },
  {
   "cell_type": "code",
   "execution_count": 5,
   "metadata": {},
   "outputs": [
    {
     "name": "stderr",
     "output_type": "stream",
     "text": [
      "The attention mask and the pad token id were not set. As a consequence, you may observe unexpected behavior. Please pass your input's `attention_mask` to obtain reliable results.\n",
      "Setting `pad_token_id` to `eos_token_id`:2 for open-end generation.\n"
     ]
    },
    {
     "name": "stdout",
     "output_type": "stream",
     "text": [
      "<doc>     G1. Personal credit cards                                                                                                                                                                                                                                                                                                                                                                                                                                                                                                                                                                                                                                                                                                                                                                                                                                                                                                                                                                                                                                                                                                                                                                                                                                                                                                                                                                                                                                                                                                                                                                                                                                                                                                                                                                                                                                                                                                                                                                                                                                                                                                                                                                                                                                                                                                                                                                                                                                                                                                                                                                                                                                                                                                                                                                                                                                                                                                                                                                                                                                                                                                                                                                                                                                                                                                                                                                                                                                                                                                                                                                                                                                                                                                                                                                                                                                                                                                                                                                                                                                                                                                                                                                                                                                                                                                                                                                                                                                                                                                                                                                                                                                                                                                                                                                                                                                                                                                                                                                                                                                                                                                                                                                                                                                                                                                                                                                                                                                                                                                                                                                                                                                                                                                                                                                                                                                                                                                                                                                                                                                                                                                                                                                                                                                                                                                                                                                                                                                                                                                                                                                                                                                                                                                                                                                                                                                                                                                                                                                                                                                                                                                                                                                                                                                                                                                                                                                                                                                                                                                                                                                                                                                                                                                                                                                                                                                                                                                                                                                                                                                                                                                                                                                                                                                                                                                                                                                \n",
      "<doc>     G1. Personal credit cards\n"
     ]
    }
   ],
   "source": [
    "\n",
    "query='Convert the picture to Markdown syntax.'\n",
    "answer=docowl.inference(image, query)\n",
    "print(answer)"
   ]
  },
  {
   "cell_type": "code",
   "execution_count": 3,
   "metadata": {},
   "outputs": [
    {
     "data": {
      "text/plain": [
       "True"
      ]
     },
     "execution_count": 3,
     "metadata": {},
     "output_type": "execute_result"
    }
   ],
   "source": [
    "torch.cuda.is_available()\n"
   ]
  }
 ],
 "metadata": {
  "kernelspec": {
   "display_name": "Python 3",
   "language": "python",
   "name": "python3"
  },
  "language_info": {
   "codemirror_mode": {
    "name": "ipython",
    "version": 3
   },
   "file_extension": ".py",
   "mimetype": "text/x-python",
   "name": "python",
   "nbconvert_exporter": "python",
   "pygments_lexer": "ipython3",
   "version": "3.10.14"
  }
 },
 "nbformat": 4,
 "nbformat_minor": 2
}
